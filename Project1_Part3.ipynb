{
 "cells": [
  {
   "cell_type": "markdown",
   "id": "42935668-cea5-4fc6-82ae-859e3a79ab61",
   "metadata": {},
   "source": [
    "## P153478"
   ]
  },
  {
   "cell_type": "markdown",
   "id": "51abd05b-4cbf-4240-be31-9718081d484e",
   "metadata": {},
   "source": [
    "## Part 3"
   ]
  },
  {
   "cell_type": "markdown",
   "id": "4e2383e2-91e5-4fde-8ecc-5e5fe0bcc6dd",
   "metadata": {},
   "source": [
    "### instance "
   ]
  },
  {
   "cell_type": "code",
   "execution_count": 183,
   "id": "89a72127-c022-4325-bd20-d8af00023a32",
   "metadata": {},
   "outputs": [],
   "source": [
    "from P153478_library1 import Book, eBook"
   ]
  },
  {
   "cell_type": "code",
   "execution_count": 185,
   "id": "8ceb9294-8026-4317-9454-3cfedaf6712c",
   "metadata": {},
   "outputs": [
    {
     "name": "stdout",
     "output_type": "stream",
     "text": [
      "PeNanggaaal by M.D Samad, 1949\n"
     ]
    }
   ],
   "source": [
    "my_book = Book('PeNanggaaal', 'M.D Samad', 1949)\n",
    "print(my_book.get_book_info())"
   ]
  },
  {
   "cell_type": "code",
   "execution_count": 187,
   "id": "17cb8da2-8efe-410b-b017-a106d5b07f99",
   "metadata": {},
   "outputs": [
    {
     "name": "stdout",
     "output_type": "stream",
     "text": [
      "PeNanggaaal has been checked out by P153478.\n"
     ]
    }
   ],
   "source": [
    "# Customer checks out the book\n",
    "my_book.check_out ('P153478')"
   ]
  },
  {
   "cell_type": "code",
   "execution_count": 189,
   "id": "cf2e8f84-708c-40b6-9780-ba2d76eb0b23",
   "metadata": {},
   "outputs": [
    {
     "name": "stdout",
     "output_type": "stream",
     "text": [
      "PeNanggaaal has been returned by P153478.\n"
     ]
    }
   ],
   "source": [
    "# Return the book\n",
    "my_book.return_book()"
   ]
  },
  {
   "cell_type": "code",
   "execution_count": 191,
   "id": "e7596af4-ec1b-4623-a4f2-44b1d06d0fd2",
   "metadata": {},
   "outputs": [
    {
     "name": "stdout",
     "output_type": "stream",
     "text": [
      "Updated book information: Penanggal by M.D Samad, 1974\n"
     ]
    }
   ],
   "source": [
    "# Update book information\n",
    "my_book.update_info(title='Penanggal', year=1974)"
   ]
  },
  {
   "cell_type": "code",
   "execution_count": 193,
   "id": "18bd0153-7768-42f4-b5ba-d1716286b800",
   "metadata": {},
   "outputs": [
    {
     "name": "stdout",
     "output_type": "stream",
     "text": [
      "Penanggal by M.D Samad, 1974\n"
     ]
    }
   ],
   "source": [
    "print(my_book.get_book_info())"
   ]
  },
  {
   "cell_type": "code",
   "execution_count": 195,
   "id": "fd80ead3-668b-4a79-896e-b76e796c3a8a",
   "metadata": {},
   "outputs": [],
   "source": [
    "my_ebook = eBook('Masak-Masak Kampung', 'Siti Saleha', 2020, 2.5)"
   ]
  },
  {
   "cell_type": "code",
   "execution_count": 197,
   "id": "8bf85291-d1ee-42f8-a98e-102d740b03f3",
   "metadata": {},
   "outputs": [
    {
     "name": "stdout",
     "output_type": "stream",
     "text": [
      "Masak-Masak Kampung by Siti Saleha, 2020 (File size: 2.5 MB)\n"
     ]
    }
   ],
   "source": [
    "print(my_ebook.get_book_info())"
   ]
  },
  {
   "cell_type": "code",
   "execution_count": 199,
   "id": "9b6689a5-d9f9-47e2-93c8-990612b6f307",
   "metadata": {},
   "outputs": [
    {
     "name": "stdout",
     "output_type": "stream",
     "text": [
      "Downloading Masak-Masak Kampung...\n"
     ]
    }
   ],
   "source": [
    "my_ebook.download()"
   ]
  },
  {
   "cell_type": "code",
   "execution_count": 201,
   "id": "4e22cdec-2486-42e1-8108-32cb1681a2b2",
   "metadata": {},
   "outputs": [
    {
     "name": "stdout",
     "output_type": "stream",
     "text": [
      "Masak-Masak Kampung has been checked out by Nur Hirfan.\n"
     ]
    }
   ],
   "source": [
    "# Customer checks out the eBook\n",
    "my_ebook.check_out('Nur Hirfan')"
   ]
  },
  {
   "cell_type": "code",
   "execution_count": 203,
   "id": "c55378df-1e73-4005-8848-397574c179de",
   "metadata": {},
   "outputs": [
    {
     "name": "stdout",
     "output_type": "stream",
     "text": [
      "Masak-Masak Kampung has been returned by Nur Hirfan.\n"
     ]
    }
   ],
   "source": [
    "# Return the eBook\n",
    "my_ebook.return_book()  "
   ]
  },
  {
   "cell_type": "code",
   "execution_count": 205,
   "id": "b7901216-7463-4f12-99bd-1355f6f43860",
   "metadata": {},
   "outputs": [
    {
     "name": "stdout",
     "output_type": "stream",
     "text": [
      "Updated eBook information: Masak-Masak Kampung by Siti Saliha, 2020 (File size: 3.0 MB)\n"
     ]
    }
   ],
   "source": [
    "# Update eBook information\n",
    "my_ebook.update_info(author='Siti Saliha', file_size=3.0)"
   ]
  }
 ],
 "metadata": {
  "kernelspec": {
   "display_name": "Python 3 (ipykernel)",
   "language": "python",
   "name": "python3"
  },
  "language_info": {
   "codemirror_mode": {
    "name": "ipython",
    "version": 3
   },
   "file_extension": ".py",
   "mimetype": "text/x-python",
   "name": "python",
   "nbconvert_exporter": "python",
   "pygments_lexer": "ipython3",
   "version": "3.12.4"
  }
 },
 "nbformat": 4,
 "nbformat_minor": 5
}
